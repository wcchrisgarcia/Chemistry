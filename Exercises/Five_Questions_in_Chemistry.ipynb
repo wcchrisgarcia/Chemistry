{
 "cells": [
  {
   "cell_type": "markdown",
   "metadata": {
    "id": "VJTQZ1o6wFwC"
   },
   "source": [
    "# Scope\n",
    "\n",
    "1. Mathematical Operations, Printing Variables, Using Chempy Library\n",
    "2. Functions\n",
    "3. Plotting\n",
    "4. Fitting\n",
    "5. Conditional Statements"
   ]
  },
  {
   "cell_type": "markdown",
   "metadata": {
    "id": "x_iAv5UKHPjV"
   },
   "source": [
    "## 1. Mathematical Operations, Printing Variables, Using Chempy Library\n"
   ]
  },
  {
   "cell_type": "markdown",
   "metadata": {
    "id": "bs23CXk5Hox-"
   },
   "source": [
    "### 1a. Example: SOLUTIONS\n",
    "A 100.0 g sample of ice at 0°C is mixed with 5.00 g of sodium chloride (NaCl). Calculate the change in the freezing point of the ice. Assume that the ice behaves as water and the molal freezing point depression constant (Kf) for water is 1.86 °C·kg/mol. The van't Hoff factor (𝑖) for NaCl is 2."
   ]
  },
  {
   "cell_type": "code",
   "execution_count": null,
   "metadata": {
    "colab": {
     "base_uri": "https://localhost:8080/"
    },
    "id": "nxyHWpq0HlKx",
    "outputId": "35cf8d96-8d35-4203-d672-06ecddcd1544"
   },
   "outputs": [
    {
     "name": "stdout",
     "output_type": "stream",
     "text": [
      "The freezing point depression of a 100 g ice containing 5 g NaCl is 3.18 °C. The freezing point of the mixture is: 96.82 °C\n"
     ]
    }
   ],
   "source": [
    "#!pip install chempy #install chempy if needed - do this once\n",
    "\n",
    "from chempy import Substance\n",
    "\n",
    "# Create an NaCl substance object\n",
    "substance_NaCl = Substance.from_formula('NaCl')\n",
    "\n",
    "# Get molar mass\n",
    "mm_NaCl = substance_NaCl.molar_mass()\n",
    "\n",
    "#define constants:\n",
    "Kf = 1.86 #°C·kg/mol\n",
    "i = 2 #van't Hoff factor\n",
    "mass_NaCl_g = 5.00 #g\n",
    "mass_ice_kg = 100.0/1000 #kg\n",
    "\n",
    "#calculate moles of NaCl\n",
    "moles_NaCl = mass_NaCl_g / mm_NaCl.magnitude\n",
    "#calculate molality of NaCl\n",
    "molality_NaCl = moles_NaCl / mass_ice_kg\n",
    "\n",
    "#calculate freezing point depression with ΔTf = Kf x m x i\n",
    "delta_Tf = Kf * molality_NaCl * i\n",
    "\n",
    "#calculate freezing point:\n",
    "Tf_mixture = 100 - delta_Tf\n",
    "\n",
    "print(\"The freezing point depression of a 100 g ice containing 5 g NaCl is %s °C. The freezing point of the mixture is: %s °C\" %(round(delta_Tf,2), round(Tf_mixture,2)))"
   ]
  },
  {
   "cell_type": "markdown",
   "metadata": {
    "id": "Endirw-jHyqx"
   },
   "source": [
    "### 1b. Do it yourself\n",
    "A 150.0 g sample of ice at 0°C is mixed with 8.00 g of calcium chloride (CaCl₂). Calculate the change in the freezing point of the ice. Assume that the ice behaves as water and the molal freezing point depression constant (Kf) for water is 1.86 °C·kg/mol. The van't Hoff factor (𝑖) for CaCl₂ is 3."
   ]
  },
  {
   "cell_type": "code",
   "execution_count": 3,
   "metadata": {
    "colab": {
     "base_uri": "https://localhost:8080/"
    },
    "id": "_um21lZOHltj",
    "outputId": "e971c6c8-0787-4608-fb5b-d6d4bdf3b86f"
   },
   "outputs": [
    {
     "name": "stdout",
     "output_type": "stream",
     "text": [
      "The freezing point depression (ΔTf) is: 2.68 °C.\n",
      "The freezing point of the mixture is: -2.68 °C.\n"
     ]
    }
   ],
   "source": [
    "#!pip install chempy #install chempy if needed - do this once\n",
    "\n",
    "from chempy import Substance\n",
    "\n",
    "# Create an NaCl substance object\n",
    "substance_CaCl2 = Substance.from_formula('CaCl2')\n",
    "\n",
    "# Get molar mass\n",
    "mm_CaCl2 = substance_CaCl2.molar_mass()\n",
    "\n",
    "#define constants:\n",
    "Kf = 1.86 #°C·kg/mol\n",
    "i = 3 #van't Hoff factor\n",
    "mass_CaCl2_g = 8.00 #g\n",
    "mass_ice_kg = 150.0/1000 #kg\n",
    "\n",
    "#calculate moles of NaCl\n",
    "moles_CaCl2 = mass_CaCl2_g / mm_CaCl2.magnitude\n",
    "#calculate molality of NaCl\n",
    "molality_CaCl2 = moles_CaCl2 / mass_ice_kg\n",
    "\n",
    "#calculate freezing point depression with ΔTf = Kf x m x i\n",
    "delta_Tf = Kf * molality_CaCl2 * i\n",
    "\n",
    "#calculate freezing point:\n",
    "Tf_mixture = 0 - delta_Tf\n",
    "\n",
    "print(f\"The freezing point depression (ΔTf) is: {round(delta_Tf, 2)} °C.\")\n",
    "print(f\"The freezing point of the mixture is: {round(Tf_mixture, 2)} °C.\")"
   ]
  },
  {
   "cell_type": "markdown",
   "metadata": {
    "id": "0vefF4sqHP4k"
   },
   "source": [
    "## 2. Functions\n"
   ]
  },
  {
   "cell_type": "markdown",
   "metadata": {
    "id": "GaSmRkseHrpf"
   },
   "source": [
    "### 2a. Example: Functionalize the above example on the calculation of the freezing point of ice with the addition of NaCl."
   ]
  },
  {
   "cell_type": "code",
   "execution_count": 4,
   "metadata": {
    "id": "OLtsBoJAHmOP"
   },
   "outputs": [
    {
     "name": "stdout",
     "output_type": "stream",
     "text": [
      "The freezing point depression of a 100.0 g ice containing 5.0 g NaCl is 3.18 °C. The freezing point of the mixture is: -3.18 °C\n"
     ]
    }
   ],
   "source": [
    "from chempy import Substance\n",
    "\n",
    "def calculate_freezing_point_depression(salt_formula, mass_salt_g, mass_solvent_g, Kf=1.86, i=2):\n",
    "    \"\"\"\n",
    "    Calculate the freezing point depression of a solution.\n",
    "\n",
    "    Parameters:\n",
    "    - salt_formula: str, the chemical formula of the salt (e.g., 'NaCl', 'CaCl2')\n",
    "    - mass_salt_g: float, mass of the salt in grams\n",
    "    - mass_solvent_g: float, mass of the solvent in grams\n",
    "    - Kf: float, molal freezing point depression constant (default is 1.86 °C·kg/mol for water)\n",
    "    - i: int, van't Hoff factor (default is 2 for NaCl, 3 for CaCl2)\n",
    "\n",
    "    Returns:\n",
    "    - delta_Tf: float, freezing point depression in °C\n",
    "    - Tf_mixture: float, new freezing point of the mixture in °C\n",
    "    \"\"\"\n",
    "\n",
    "    # Create a substance object for the salt\n",
    "    substance = Substance.from_formula(salt_formula)\n",
    "\n",
    "    # Get molar mass of the salt\n",
    "    mm_salt = substance.molar_mass()\n",
    "\n",
    "    # Convert mass of solvent to kg\n",
    "    mass_solvent_kg = mass_solvent_g / 1000\n",
    "\n",
    "    # Calculate moles of salt\n",
    "    moles_salt = mass_salt_g / mm_salt.magnitude\n",
    "\n",
    "    # Calculate molality of the solution (mol/kg)\n",
    "    molality_salt = moles_salt / mass_solvent_kg\n",
    "\n",
    "    # Calculate the freezing point depression: ΔTf = Kf x m x i\n",
    "    delta_Tf = Kf * molality_salt * i\n",
    "\n",
    "    # Calculate the new freezing point of the mixture\n",
    "    Tf_mixture = 0 - delta_Tf  # since the initial freezing point of water is 0°C\n",
    "\n",
    "    return round(delta_Tf, 2), round(Tf_mixture, 2)\n",
    "\n",
    "\n",
    "# Example usage:\n",
    "salt_formula = 'NaCl'\n",
    "mass_salt_g = 5.00  # grams of NaCl\n",
    "mass_solvent_g = 100.0  # grams of ice\n",
    "\n",
    "delta_Tf, Tf_mixture = calculate_freezing_point_depression(salt_formula, mass_salt_g, mass_solvent_g)\n",
    "\n",
    "print(f\"The freezing point depression of a {mass_solvent_g} g ice containing {mass_salt_g} g {salt_formula} is {delta_Tf} °C. The freezing point of the mixture is: {Tf_mixture} °C\")"
   ]
  },
  {
   "cell_type": "markdown",
   "metadata": {
    "id": "AsvWQMuOH1dm"
   },
   "source": [
    "### 2b. Do it yourself: Functionalize the above example on the calculation of the freezing point of ice with the addition of CaCl₂."
   ]
  },
  {
   "cell_type": "code",
   "execution_count": 2,
   "metadata": {
    "id": "OcaDB0enHmQ1"
   },
   "outputs": [
    {
     "name": "stdout",
     "output_type": "stream",
     "text": [
      "The freezing point depression (ΔTf) is: 2.68 °C.\n",
      "The freezing point of the mixture is: -2.68 °C.\n"
     ]
    }
   ],
   "source": [
    "#!pip install chempy #install chempy if needed - do this once\n",
    "\n",
    "from chempy import Substance\n",
    "\n",
    "formula = input(\"Enter chemical formula of solute (e.g NaCl): \")\n",
    "\n",
    "substance= Substance.from_formula(formula)\n",
    "\n",
    "mm_substance= substance.molar_mass().magnitude\n",
    "\n",
    "Kf= float(input(\"Enter your Kf Constant: \"))\n",
    "\n",
    "i = float(input(\"Enter the Van Hoff Factor: \"))\n",
    "\n",
    "mass_sustance_g= float(input(f\"Enter mass of {formula} in g: \"))\n",
    "\n",
    "mass_ice_g= float(input(\"Enter mass of solvent in g: \"))\n",
    "\n",
    "freezing_point= float(input(\"Enter freezing point of solvent in C: \"))\n",
    "\n",
    "mass_ice_kg= mass_ice_g / 1000\n",
    "\n",
    "moles_substance = mass_sustance_g/ mm_substance\n",
    "\n",
    "molality= moles_substance / mass_ice_kg\n",
    "\n",
    "\n",
    "\n",
    "\n",
    "#calculate freezing point depression with ΔTf = Kf x m x i\n",
    "delta_Tf = Kf * molality * i\n",
    "\n",
    "#calculate freezing point:\n",
    "Tf_mixture = freezing_point - delta_Tf\n",
    "\n",
    "\n",
    "print(f\"The freezing point depression (ΔTf) is: {round(delta_Tf, 2)} °C.\")\n",
    "print(f\"The freezing point of the mixture is: {round(Tf_mixture, 2)} °C.\")"
   ]
  },
  {
   "cell_type": "markdown",
   "metadata": {
    "id": "KTlX44rZHP_4"
   },
   "source": [
    "## 3. Plotting: CHEMICAL KINETICS\n"
   ]
  },
  {
   "cell_type": "markdown",
   "metadata": {
    "id": "zeEnHNjEHtA_"
   },
   "source": [
    "### 3a. Example\n",
    "\n",
    "Given the following set of calculated values for the reaction rates of the decomposition of hydrogen peroxide, complete the following:\n",
    "\n",
    "a. Generate a table consisting of temperature (T in °C), reaction rate constant (k), and the natural logarithm of the reaction rate constant (ln(k)).\n",
    "b. Plot 1/T (in Kelvin) versus 𝑘 to observe the relationship.\n",
    "\n",
    "Dataset:\n",
    "- Temperature (T, °C): 0.0, 5.55555556, 11.11111111, 16.66666667, 22.22222222, 27.77777778, 33.33333333, 38.88888889, 44.44444444, 50.0\n",
    "\n",
    "- Reaction rate constant (k): 0.0435889, 0.10254397, 0.19861553, 0.29297953, 0.63305889, 1.25410921, 1.8739089, 3.53913917, 3.71370234, 7.28617176"
   ]
  },
  {
   "cell_type": "code",
   "execution_count": null,
   "metadata": {
    "colab": {
     "base_uri": "https://localhost:8080/",
     "height": 206
    },
    "id": "Vr9B5iWPHmu7",
    "outputId": "1b3dda18-539e-467b-87ad-f2b69fb05cab"
   },
   "outputs": [
    {
     "data": {
      "application/vnd.google.colaboratory.intrinsic+json": {
       "summary": "{\n  \"name\": \"df\",\n  \"rows\": 10,\n  \"fields\": [\n    {\n      \"column\": \"T (C)\",\n      \"properties\": {\n        \"dtype\": \"number\",\n        \"std\": 16.82027974376277,\n        \"min\": 0.0,\n        \"max\": 50.0,\n        \"num_unique_values\": 10,\n        \"samples\": [\n          44.44444444,\n          5.55555556,\n          27.77777778\n        ],\n        \"semantic_type\": \"\",\n        \"description\": \"\"\n      }\n    },\n    {\n      \"column\": \"k\",\n      \"properties\": {\n        \"dtype\": \"number\",\n        \"std\": 2.3372367982394886,\n        \"min\": 0.0435889,\n        \"max\": 7.28617176,\n        \"num_unique_values\": 10,\n        \"samples\": [\n          3.71370234,\n          0.10254397,\n          1.25410921\n        ],\n        \"semantic_type\": \"\",\n        \"description\": \"\"\n      }\n    },\n    {\n      \"column\": \"1/T (K)\",\n      \"properties\": {\n        \"dtype\": \"number\",\n        \"std\": 0.000190399236926995,\n        \"min\": 0.0030945381401825778,\n        \"max\": 0.0036609921288669233,\n        \"num_unique_values\": 10,\n        \"samples\": [\n          0.0031486696871012815,\n          0.003588016026414368,\n          0.0033230564734740855\n        ],\n        \"semantic_type\": \"\",\n        \"description\": \"\"\n      }\n    },\n    {\n      \"column\": \"ln_k\",\n      \"properties\": {\n        \"dtype\": \"number\",\n        \"std\": 1.6981625182799522,\n        \"min\": -3.132952748195923,\n        \"max\": 1.9859782722860013,\n        \"num_unique_values\": 10,\n        \"samples\": [\n          1.3120293143229005,\n          -2.27746359677765,\n          0.22642552773286934\n        ],\n        \"semantic_type\": \"\",\n        \"description\": \"\"\n      }\n    }\n  ]\n}",
       "type": "dataframe",
       "variable_name": "df"
      },
      "text/html": [
       "\n",
       "  <div id=\"df-a0a1dd64-ed22-4cbc-9cf1-11f74c6fd6ed\" class=\"colab-df-container\">\n",
       "    <div>\n",
       "<style scoped>\n",
       "    .dataframe tbody tr th:only-of-type {\n",
       "        vertical-align: middle;\n",
       "    }\n",
       "\n",
       "    .dataframe tbody tr th {\n",
       "        vertical-align: top;\n",
       "    }\n",
       "\n",
       "    .dataframe thead th {\n",
       "        text-align: right;\n",
       "    }\n",
       "</style>\n",
       "<table border=\"1\" class=\"dataframe\">\n",
       "  <thead>\n",
       "    <tr style=\"text-align: right;\">\n",
       "      <th></th>\n",
       "      <th>T (C)</th>\n",
       "      <th>k</th>\n",
       "      <th>1/T (K)</th>\n",
       "      <th>ln_k</th>\n",
       "    </tr>\n",
       "  </thead>\n",
       "  <tbody>\n",
       "    <tr>\n",
       "      <th>0</th>\n",
       "      <td>0.000000</td>\n",
       "      <td>0.043589</td>\n",
       "      <td>0.003661</td>\n",
       "      <td>-3.132953</td>\n",
       "    </tr>\n",
       "    <tr>\n",
       "      <th>1</th>\n",
       "      <td>5.555556</td>\n",
       "      <td>0.102544</td>\n",
       "      <td>0.003588</td>\n",
       "      <td>-2.277464</td>\n",
       "    </tr>\n",
       "    <tr>\n",
       "      <th>2</th>\n",
       "      <td>11.111111</td>\n",
       "      <td>0.198616</td>\n",
       "      <td>0.003518</td>\n",
       "      <td>-1.616384</td>\n",
       "    </tr>\n",
       "    <tr>\n",
       "      <th>3</th>\n",
       "      <td>16.666667</td>\n",
       "      <td>0.292980</td>\n",
       "      <td>0.003450</td>\n",
       "      <td>-1.227653</td>\n",
       "    </tr>\n",
       "    <tr>\n",
       "      <th>4</th>\n",
       "      <td>22.222222</td>\n",
       "      <td>0.633059</td>\n",
       "      <td>0.003386</td>\n",
       "      <td>-0.457192</td>\n",
       "    </tr>\n",
       "  </tbody>\n",
       "</table>\n",
       "</div>\n",
       "    <div class=\"colab-df-buttons\">\n",
       "\n",
       "  <div class=\"colab-df-container\">\n",
       "    <button class=\"colab-df-convert\" onclick=\"convertToInteractive('df-a0a1dd64-ed22-4cbc-9cf1-11f74c6fd6ed')\"\n",
       "            title=\"Convert this dataframe to an interactive table.\"\n",
       "            style=\"display:none;\">\n",
       "\n",
       "  <svg xmlns=\"http://www.w3.org/2000/svg\" height=\"24px\" viewBox=\"0 -960 960 960\">\n",
       "    <path d=\"M120-120v-720h720v720H120Zm60-500h600v-160H180v160Zm220 220h160v-160H400v160Zm0 220h160v-160H400v160ZM180-400h160v-160H180v160Zm440 0h160v-160H620v160ZM180-180h160v-160H180v160Zm440 0h160v-160H620v160Z\"/>\n",
       "  </svg>\n",
       "    </button>\n",
       "\n",
       "  <style>\n",
       "    .colab-df-container {\n",
       "      display:flex;\n",
       "      gap: 12px;\n",
       "    }\n",
       "\n",
       "    .colab-df-convert {\n",
       "      background-color: #E8F0FE;\n",
       "      border: none;\n",
       "      border-radius: 50%;\n",
       "      cursor: pointer;\n",
       "      display: none;\n",
       "      fill: #1967D2;\n",
       "      height: 32px;\n",
       "      padding: 0 0 0 0;\n",
       "      width: 32px;\n",
       "    }\n",
       "\n",
       "    .colab-df-convert:hover {\n",
       "      background-color: #E2EBFA;\n",
       "      box-shadow: 0px 1px 2px rgba(60, 64, 67, 0.3), 0px 1px 3px 1px rgba(60, 64, 67, 0.15);\n",
       "      fill: #174EA6;\n",
       "    }\n",
       "\n",
       "    .colab-df-buttons div {\n",
       "      margin-bottom: 4px;\n",
       "    }\n",
       "\n",
       "    [theme=dark] .colab-df-convert {\n",
       "      background-color: #3B4455;\n",
       "      fill: #D2E3FC;\n",
       "    }\n",
       "\n",
       "    [theme=dark] .colab-df-convert:hover {\n",
       "      background-color: #434B5C;\n",
       "      box-shadow: 0px 1px 3px 1px rgba(0, 0, 0, 0.15);\n",
       "      filter: drop-shadow(0px 1px 2px rgba(0, 0, 0, 0.3));\n",
       "      fill: #FFFFFF;\n",
       "    }\n",
       "  </style>\n",
       "\n",
       "    <script>\n",
       "      const buttonEl =\n",
       "        document.querySelector('#df-a0a1dd64-ed22-4cbc-9cf1-11f74c6fd6ed button.colab-df-convert');\n",
       "      buttonEl.style.display =\n",
       "        google.colab.kernel.accessAllowed ? 'block' : 'none';\n",
       "\n",
       "      async function convertToInteractive(key) {\n",
       "        const element = document.querySelector('#df-a0a1dd64-ed22-4cbc-9cf1-11f74c6fd6ed');\n",
       "        const dataTable =\n",
       "          await google.colab.kernel.invokeFunction('convertToInteractive',\n",
       "                                                    [key], {});\n",
       "        if (!dataTable) return;\n",
       "\n",
       "        const docLinkHtml = 'Like what you see? Visit the ' +\n",
       "          '<a target=\"_blank\" href=https://colab.research.google.com/notebooks/data_table.ipynb>data table notebook</a>'\n",
       "          + ' to learn more about interactive tables.';\n",
       "        element.innerHTML = '';\n",
       "        dataTable['output_type'] = 'display_data';\n",
       "        await google.colab.output.renderOutput(dataTable, element);\n",
       "        const docLink = document.createElement('div');\n",
       "        docLink.innerHTML = docLinkHtml;\n",
       "        element.appendChild(docLink);\n",
       "      }\n",
       "    </script>\n",
       "  </div>\n",
       "\n",
       "\n",
       "<div id=\"df-72f223d8-8f40-46de-a845-10086a0cdadc\">\n",
       "  <button class=\"colab-df-quickchart\" onclick=\"quickchart('df-72f223d8-8f40-46de-a845-10086a0cdadc')\"\n",
       "            title=\"Suggest charts\"\n",
       "            style=\"display:none;\">\n",
       "\n",
       "<svg xmlns=\"http://www.w3.org/2000/svg\" height=\"24px\"viewBox=\"0 0 24 24\"\n",
       "     width=\"24px\">\n",
       "    <g>\n",
       "        <path d=\"M19 3H5c-1.1 0-2 .9-2 2v14c0 1.1.9 2 2 2h14c1.1 0 2-.9 2-2V5c0-1.1-.9-2-2-2zM9 17H7v-7h2v7zm4 0h-2V7h2v10zm4 0h-2v-4h2v4z\"/>\n",
       "    </g>\n",
       "</svg>\n",
       "  </button>\n",
       "\n",
       "<style>\n",
       "  .colab-df-quickchart {\n",
       "      --bg-color: #E8F0FE;\n",
       "      --fill-color: #1967D2;\n",
       "      --hover-bg-color: #E2EBFA;\n",
       "      --hover-fill-color: #174EA6;\n",
       "      --disabled-fill-color: #AAA;\n",
       "      --disabled-bg-color: #DDD;\n",
       "  }\n",
       "\n",
       "  [theme=dark] .colab-df-quickchart {\n",
       "      --bg-color: #3B4455;\n",
       "      --fill-color: #D2E3FC;\n",
       "      --hover-bg-color: #434B5C;\n",
       "      --hover-fill-color: #FFFFFF;\n",
       "      --disabled-bg-color: #3B4455;\n",
       "      --disabled-fill-color: #666;\n",
       "  }\n",
       "\n",
       "  .colab-df-quickchart {\n",
       "    background-color: var(--bg-color);\n",
       "    border: none;\n",
       "    border-radius: 50%;\n",
       "    cursor: pointer;\n",
       "    display: none;\n",
       "    fill: var(--fill-color);\n",
       "    height: 32px;\n",
       "    padding: 0;\n",
       "    width: 32px;\n",
       "  }\n",
       "\n",
       "  .colab-df-quickchart:hover {\n",
       "    background-color: var(--hover-bg-color);\n",
       "    box-shadow: 0 1px 2px rgba(60, 64, 67, 0.3), 0 1px 3px 1px rgba(60, 64, 67, 0.15);\n",
       "    fill: var(--button-hover-fill-color);\n",
       "  }\n",
       "\n",
       "  .colab-df-quickchart-complete:disabled,\n",
       "  .colab-df-quickchart-complete:disabled:hover {\n",
       "    background-color: var(--disabled-bg-color);\n",
       "    fill: var(--disabled-fill-color);\n",
       "    box-shadow: none;\n",
       "  }\n",
       "\n",
       "  .colab-df-spinner {\n",
       "    border: 2px solid var(--fill-color);\n",
       "    border-color: transparent;\n",
       "    border-bottom-color: var(--fill-color);\n",
       "    animation:\n",
       "      spin 1s steps(1) infinite;\n",
       "  }\n",
       "\n",
       "  @keyframes spin {\n",
       "    0% {\n",
       "      border-color: transparent;\n",
       "      border-bottom-color: var(--fill-color);\n",
       "      border-left-color: var(--fill-color);\n",
       "    }\n",
       "    20% {\n",
       "      border-color: transparent;\n",
       "      border-left-color: var(--fill-color);\n",
       "      border-top-color: var(--fill-color);\n",
       "    }\n",
       "    30% {\n",
       "      border-color: transparent;\n",
       "      border-left-color: var(--fill-color);\n",
       "      border-top-color: var(--fill-color);\n",
       "      border-right-color: var(--fill-color);\n",
       "    }\n",
       "    40% {\n",
       "      border-color: transparent;\n",
       "      border-right-color: var(--fill-color);\n",
       "      border-top-color: var(--fill-color);\n",
       "    }\n",
       "    60% {\n",
       "      border-color: transparent;\n",
       "      border-right-color: var(--fill-color);\n",
       "    }\n",
       "    80% {\n",
       "      border-color: transparent;\n",
       "      border-right-color: var(--fill-color);\n",
       "      border-bottom-color: var(--fill-color);\n",
       "    }\n",
       "    90% {\n",
       "      border-color: transparent;\n",
       "      border-bottom-color: var(--fill-color);\n",
       "    }\n",
       "  }\n",
       "</style>\n",
       "\n",
       "  <script>\n",
       "    async function quickchart(key) {\n",
       "      const quickchartButtonEl =\n",
       "        document.querySelector('#' + key + ' button');\n",
       "      quickchartButtonEl.disabled = true;  // To prevent multiple clicks.\n",
       "      quickchartButtonEl.classList.add('colab-df-spinner');\n",
       "      try {\n",
       "        const charts = await google.colab.kernel.invokeFunction(\n",
       "            'suggestCharts', [key], {});\n",
       "      } catch (error) {\n",
       "        console.error('Error during call to suggestCharts:', error);\n",
       "      }\n",
       "      quickchartButtonEl.classList.remove('colab-df-spinner');\n",
       "      quickchartButtonEl.classList.add('colab-df-quickchart-complete');\n",
       "    }\n",
       "    (() => {\n",
       "      let quickchartButtonEl =\n",
       "        document.querySelector('#df-72f223d8-8f40-46de-a845-10086a0cdadc button');\n",
       "      quickchartButtonEl.style.display =\n",
       "        google.colab.kernel.accessAllowed ? 'block' : 'none';\n",
       "    })();\n",
       "  </script>\n",
       "</div>\n",
       "\n",
       "    </div>\n",
       "  </div>\n"
      ],
      "text/plain": [
       "       T (C)         k   1/T (K)      ln_k\n",
       "0   0.000000  0.043589  0.003661 -3.132953\n",
       "1   5.555556  0.102544  0.003588 -2.277464\n",
       "2  11.111111  0.198616  0.003518 -1.616384\n",
       "3  16.666667  0.292980  0.003450 -1.227653\n",
       "4  22.222222  0.633059  0.003386 -0.457192"
      ]
     },
     "execution_count": 39,
     "metadata": {},
     "output_type": "execute_result"
    }
   ],
   "source": [
    "#(a) Generate table\n",
    "\n",
    "import pandas as pd\n",
    "import numpy as np\n",
    "\n",
    "# Create a DataFrame\n",
    "df = pd.DataFrame({\n",
    "    \"T (C)\": [ 0.0, 5.55555556, 11.11111111, 16.66666667, 22.22222222, 27.77777778, 33.33333333, 38.88888889, 44.44444444, 50.0],\n",
    "    \"k\": [0.0435889, 0.10254397, 0.19861553, 0.29297953, 0.63305889, 1.25410921, 1.8739089, 3.53913917, 3.71370234, 7.28617176]\n",
    "})\n",
    "\n",
    "# Convert temperature from Celsius to Kelvin and calculate 1/T\n",
    "df[\"1/T (K)\"] = 1 / (df[\"T (C)\"] + 273.15)\n",
    "\n",
    "# Calculate the natural logarithm of k\n",
    "df[\"ln_k\"] = np.log(df[\"k\"])\n",
    "\n",
    "# Display the DataFrame\n",
    "df.head()\n"
   ]
  },
  {
   "cell_type": "code",
   "execution_count": null,
   "metadata": {
    "colab": {
     "base_uri": "https://localhost:8080/",
     "height": 477
    },
    "id": "XR8plknbSZ_V",
    "outputId": "73d0fec6-1b5b-4ee4-d92e-6e288174af22"
   },
   "outputs": [
    {
     "data": {
      "image/png": "[encoded data removed]",
      "text/plain": [
       "<Figure size 640x480 with 1 Axes>"
      ]
     },
     "metadata": {},
     "output_type": "display_data"
    }
   ],
   "source": [
    "# (b). Plot data\n",
    "\n",
    "import matplotlib.pyplot as plt\n",
    "\n",
    "# Create a scatter plot\n",
    "plt.scatter(df[\"1/T (K)\"], df[\"ln_k\"])\n",
    "\n",
    "plt.xlabel(\"1/T (K)\", fontsize=12)\n",
    "plt.ylabel(\"ln(k)\", fontsize=12)\n",
    "plt.title(\"ln(k) vs 1/T\", fontweight=\"bold\", fontsize=14)\n",
    "\n",
    "plt.show()"
   ]
  },
  {
   "cell_type": "markdown",
   "metadata": {},
   "source": []
  },
  {
   "cell_type": "markdown",
   "metadata": {
    "id": "fAv56jp2H3CQ"
   },
   "source": [
    "### 3b. Do it yourself, but this time use the following dataset.\n",
    "\n",
    "- Temperature (T, °C): 0.0, 5.55555556, 11.11111111, 16.66666667, 22.22222222, 27.77777778, 33.33333333, 38.88888889, 44.44444444, 50.0\n",
    "\n",
    "- Reaction rate constant (k): 716.00589111, 724.40605367, 931.30171197, 1769.122-69634, 1790.40353274, 2793.98814359, 2723.77412272, 5753.03377506, 4553.97173516, 9514.18898672\n"
   ]
  },
  {
   "cell_type": "code",
   "execution_count": 3,
   "metadata": {
    "id": "OapQ7H6XHmxj"
   },
   "outputs": [
    {
     "data": {
      "image/png": "[encoded data removed]",
      "text/plain": [
       "<Figure size 640x480 with 1 Axes>"
      ]
     },
     "metadata": {},
     "output_type": "display_data"
    },
    {
     "name": "stdout",
     "output_type": "stream",
     "text": [
      "Fitted equation: ln(k) = -4516.3 * (1/T) + 22.9\n",
      "The activation energy is, Ea: 37550.6 J/mol\n"
     ]
    }
   ],
   "source": [
    "#(a) Generate table\n",
    "\n",
    "import pandas as pd\n",
    "import numpy as np\n",
    "\n",
    "# Create a DataFrame\n",
    "df = pd.DataFrame({\n",
    "    \"T (C)\": [0.0, 5.55555556, 11.11111111, 16.66666667, 22.22222222, 27.77777778, 33.33333333, 38.88888889, 44.44444444, 50.0 ],\n",
    "    \"k\": [716.00589111, 724.40605367, 931.30171197, 1769.12269634, 1790.40353274, 2793.98814359, 2723.77412272, 5753.03377506, 4553.97173516, 9514.18898672]\n",
    "})\n",
    "\n",
    "# Convert temperature from Celsius to Kelvin and calculate 1/T\n",
    "df[\"1/T (K)\"] = 1 / (df[\"T (C)\"] + 273.15)\n",
    "\n",
    "# Calculate the natural logarithm of k\n",
    "df[\"ln_k\"] = np.log(df[\"k\"])\n",
    "\n",
    "# Display the DataFrame\n",
    "df.head()\n",
    "\n",
    "# (b). Plot data\n",
    "\n",
    "import matplotlib.pyplot as plt\n",
    "\n",
    "# Create a scatter plot\n",
    "plt.scatter(df[\"1/T (K)\"], df[\"ln_k\"])\n",
    "\n",
    "plt.xlabel(\"1/T (K)\", fontsize=12)\n",
    "plt.ylabel(\"ln(k)\", fontsize=12)\n",
    "plt.title(\"ln(k) vs 1/T\", fontweight=\"bold\", fontsize=14)\n",
    "\n",
    "plt.show()\n",
    "\n",
    "\n",
    "from scipy import constants\n",
    "\n",
    "# Fit the data to a linear model: ln(k) = m * (1/T) + b\n",
    "slope, intercept = np.polyfit(df[\"1/T (K)\"], df[\"ln_k\"], 1)\n",
    "Ea = -slope * constants.R  # Activation energy in J/mol\n",
    "\n",
    "# Print the fitted slope\n",
    "print(f\"Fitted equation: ln(k) = {round(slope, 2)} * (1/T) + {round(intercept, 2)}\")\n",
    "print(\"The activation energy is, Ea: %s J/mol\" %(round(Ea,2)))"
   ]
  },
  {
   "cell_type": "markdown",
   "metadata": {
    "id": "treyo2WyHQKb"
   },
   "source": [
    "## 4. Fitting\n"
   ]
  },
  {
   "cell_type": "markdown",
   "metadata": {
    "id": "3U9v3EcKHuYp"
   },
   "source": [
    "### 4a. Example: Fit the example plot you have generated in the above to a linear equation and derive the activation energy."
   ]
  },
  {
   "cell_type": "code",
   "execution_count": null,
   "metadata": {
    "colab": {
     "base_uri": "https://localhost:8080/"
    },
    "id": "TCu9yUbuHnYK",
    "outputId": "6c755bd7-1db8-4720-c3e1-949ecb63b5e8"
   },
   "outputs": [
    {
     "name": "stdout",
     "output_type": "stream",
     "text": [
      "Fitted equation: ln(k) = -8883.08 * (1/T) + 29.55\n",
      "The activation energy is, Ea: 73858.01 J/mol\n"
     ]
    }
   ],
   "source": [
    "from scipy import constants\n",
    "\n",
    "# Fit the data to a linear model: ln(k) = m * (1/T) + b\n",
    "slope, intercept = np.polyfit(df[\"1/T (K)\"], df[\"ln_k\"], 1)\n",
    "Ea = -slope * constants.R  # Activation energy in J/mol\n",
    "\n",
    "# Print the fitted slope\n",
    "print(f\"Fitted equation: ln(k) = {round(slope, 2)} * (1/T) + {round(intercept, 2)}\")\n",
    "print(\"The activation energy is, Ea: %s J/mol\" %(round(Ea,2)))"
   ]
  },
  {
   "cell_type": "markdown",
   "metadata": {
    "id": "MEZaso6wH4l9"
   },
   "source": [
    "### 4b. Do it yourself: Fit the plot you have generated in the above to a linear equation and derive the activation energy."
   ]
  },
  {
   "cell_type": "code",
   "execution_count": 4,
   "metadata": {
    "id": "UT-IfHbRHnan"
   },
   "outputs": [
    {
     "name": "stdout",
     "output_type": "stream",
     "text": [
      "Fitted equation: ln(k) = -4516.3 * (1/T) + 22.9\n",
      "The activation energy is, Ea: 37550.6 J/mol\n"
     ]
    }
   ],
   "source": [
    "from scipy import constants\n",
    "\n",
    "# Fit the data to a linear model: ln(k) = m * (1/T) + b\n",
    "slope, intercept = np.polyfit(df[\"1/T (K)\"], df[\"ln_k\"], 1)\n",
    "Ea = -slope * constants.R  # Activation energy in J/mol\n",
    "\n",
    "# Print the fitted slope\n",
    "print(f\"Fitted equation: ln(k) = {round(slope, 2)} * (1/T) + {round(intercept, 2)}\")\n",
    "print(\"The activation energy is, Ea: %s J/mol\" %(round(Ea,2)))"
   ]
  },
  {
   "cell_type": "markdown",
   "metadata": {
    "id": "ZlJrT02rHQS2"
   },
   "source": [
    "## 5. Conditional Statements"
   ]
  },
  {
   "cell_type": "markdown",
   "metadata": {
    "id": "Va7CjxG1Hvtu"
   },
   "source": [
    "### 5a. Example:\n",
    "\n",
    "Given the following chemical kinetics dataset, write a function to determine if the reaction is zeroth, first, or second order.\n",
    "\n",
    "Dataset\n",
    "- time = 0.0, 52.63157895, 105.26315789, 157.89473684, 210.52631579, 263.15789474, 315.78947368, 368.42105263, 421.05263158, 473.68421053, 526.31578947, 578.94736842, 631.57894737, 684.21052632, 736.84210526, 789.47368421, 842.10526316, 894.73684211, 947.36842105, 1000.0\n",
    "\n",
    "- concentration = 1.0, 0.15966387, 0.08675799, 0.05956113, 0.04534606, 0.03660886, 0.03069467, 0.02642559, 0.02319902, 0.02067465, 0.01864573, 0.01697945, 0.01558655, 0.01440485, 0.01338971, 0.01250823, 0.01173564, 0.01105294, 0.0104453, 0.00990099\n"
   ]
  },
  {
   "cell_type": "code",
   "execution_count": 2,
   "metadata": {
    "colab": {
     "base_uri": "https://localhost:8080/",
     "height": 496
    },
    "id": "VUe6FQT5Y93o",
    "outputId": "c5704e59-f842-4167-d160-c678d8f09848"
   },
   "outputs": [
    {
     "name": "stdout",
     "output_type": "stream",
     "text": [
      "Fitted Second Order Equation: 1/[A] = 0.1000 * t + 1.0000\n"
     ]
    },
    {
     "data": {
      "image/png": "[encoded data removed]",
      "text/plain": [
       "<Figure size 640x480 with 1 Axes>"
      ]
     },
     "metadata": {},
     "output_type": "display_data"
    }
   ],
   "source": [
    "import numpy as np\n",
    "import pandas as pd\n",
    "import matplotlib.pyplot as plt\n",
    "from scipy import stats\n",
    "\n",
    "def analyze_reaction(time, concentration):\n",
    "    # Convert the lists to numpy arrays for easy manipulation\n",
    "    time = np.array(time)\n",
    "    concentration = np.array(concentration)\n",
    "\n",
    "    # Calculate the transformations for the three possible reaction orders\n",
    "    zero_order = concentration\n",
    "    first_order = np.log(concentration)\n",
    "    second_order = 1 / concentration\n",
    "\n",
    "    # Fit the data to a linear model and determine the order of the reaction\n",
    "    # For zeroth-order: y = [A]\n",
    "    slope_zeroth, intercept_zeroth, r_value_zeroth, p_value_zeroth, std_err_zeroth = stats.linregress(time, zero_order)\n",
    "\n",
    "    # For first-order: y = ln([A])\n",
    "    slope_first, intercept_first, r_value_first, p_value_first, std_err_first = stats.linregress(time, first_order)\n",
    "\n",
    "    # For second-order: y = 1/[A]\n",
    "    slope_second, intercept_second, r_value_second, p_value_second, std_err_second = stats.linregress(time, second_order)\n",
    "\n",
    "    # Determine which reaction order fits best\n",
    "    if r_value_zeroth**2 > r_value_first**2 and r_value_zeroth**2 > r_value_second**2:\n",
    "        order = \"Zeroth\"\n",
    "        plt.plot(time, zero_order, label=\"Zeroth Order\")\n",
    "        print(f\"Fitted Zeroth Order Equation: [A] = {slope_zeroth:.4f} * t + {intercept_zeroth:.4f}\")\n",
    "\n",
    "    elif r_value_first**2 > r_value_zeroth**2 and r_value_first**2 > r_value_second**2:\n",
    "        order = \"First\"\n",
    "        plt.plot(time, first_order, label=\"First Order\")\n",
    "        print(f\"Fitted First Order Equation: ln([A]) = {slope_first:.4f} * t + {intercept_first:.4f}\")\n",
    "\n",
    "    else:\n",
    "        order = \"Second\"\n",
    "        plt.scatter(time, second_order, label=\"Second Order\")\n",
    "        print(f\"Fitted Second Order Equation: 1/[A] = {slope_second:.4f} * t + {intercept_second:.4f}\")\n",
    "\n",
    "    # Plotting the data\n",
    "    plt.xlabel(\"Time (s)\", fontsize=12)\n",
    "    plt.ylabel(\"Transformed Concentration\", fontsize=12)\n",
    "    plt.title(f\"Transformation for {order} Order Reaction\", fontweight=\"bold\", fontsize=14)\n",
    "    plt.legend()\n",
    "    plt.grid(True)\n",
    "    plt.show()\n",
    "\n",
    "# Check order of reaction\n",
    "time = [0.0, 52.63157895, 105.26315789, 157.89473684, 210.52631579,\n",
    "        263.15789474, 315.78947368, 368.42105263, 421.05263158,\n",
    "        473.68421053, 526.31578947, 578.94736842, 631.57894737,\n",
    "        684.21052632, 736.84210526, 789.47368421, 842.10526316,\n",
    "        894.73684211, 947.36842105, 1000.0]\n",
    "\n",
    "concentration = [1.0, 0.15966387, 0.08675799, 0.05956113, 0.04534606,\n",
    "                 0.03660886, 0.03069467, 0.02642559, 0.02319902, 0.02067465,\n",
    "                 0.01864573, 0.01697945, 0.01558655, 0.01440485, 0.01338971,\n",
    "                 0.01250823, 0.01173564, 0.01105294, 0.0104453, 0.00990099]\n",
    "\n",
    "# Call the function to analyze the reaction and plot the results\n",
    "analyze_reaction(time, concentration)\n"
   ]
  },
  {
   "cell_type": "markdown",
   "metadata": {
    "id": "a-ohPZl6H6RV"
   },
   "source": [
    "### 5b. Do it yourself\n",
    "\n",
    "Given the following chemical kinetics dataset, write a function to determine if the reaction is zeroth, first, or second order.\n",
    "\n",
    "Dataset\n",
    "- time = 0.0, 52.63157895, 105.26315789, 157.89473684, 210.52631579, 263.15789474, 315.78947368, 368.42105263, 421.05263158, 473.68421053, 526.31578947, 578.94736842, 631.57894737, 684.21052632, 736.84210526, 789.47368421, 842.10526316, 894.73684211, 947.36842105, 1000.0\n",
    "\n",
    "- concentration = 1.00000000e+00, 5.17892437e-03, 2.68212576e-05, 1.38905265e-07, 7.19379861e-10, 3.72561389e-12, 1.92946726e-14, 9.99256501e-17, 5.17507385e-19, 2.68013161e-21, 1.38801989e-23, 7.18845003e-26, 3.72284391e-28, 1.92803270e-30, 9.98513555e-33, 5.17122619e-35, 2.67813893e-37, 1.38698790e-39, 7.18310543e-42, 3.72007598e-44\n"
   ]
  },
  {
   "cell_type": "code",
   "execution_count": 1,
   "metadata": {
    "id": "JtOESFdcHoAV"
   },
   "outputs": [
    {
     "name": "stdout",
     "output_type": "stream",
     "text": [
      "Fitted First Order Equation: ln([A]) = -0.1000 * t + -0.0000\n"
     ]
    },
    {
     "data": {
      "image/png": "[encoded data removed]",
      "text/plain": [
       "<Figure size 640x480 with 1 Axes>"
      ]
     },
     "metadata": {},
     "output_type": "display_data"
    }
   ],
   "source": [
    "import numpy as np\n",
    "import pandas as pd\n",
    "import matplotlib.pyplot as plt\n",
    "from scipy import stats\n",
    "\n",
    "def analyze_reaction(time, concentration):\n",
    "    # Convert the lists to numpy arrays for easy manipulation\n",
    "    time = np.array(time)\n",
    "    concentration = np.array(concentration)\n",
    "\n",
    "    # Calculate the transformations for the three possible reaction orders\n",
    "    zero_order = concentration\n",
    "    first_order = np.log(concentration)\n",
    "    second_order = 1 / concentration\n",
    "\n",
    "    # Fit the data to a linear model and determine the order of the reaction\n",
    "    # For zeroth-order: y = [A]\n",
    "    slope_zeroth, intercept_zeroth, r_value_zeroth, p_value_zeroth, std_err_zeroth = stats.linregress(time, zero_order)\n",
    "\n",
    "    # For first-order: y = ln([A])\n",
    "    slope_first, intercept_first, r_value_first, p_value_first, std_err_first = stats.linregress(time, first_order)\n",
    "\n",
    "    # For second-order: y = 1/[A]\n",
    "    slope_second, intercept_second, r_value_second, p_value_second, std_err_second = stats.linregress(time, second_order)\n",
    "\n",
    "    # Determine which reaction order fits best\n",
    "    if r_value_zeroth**2 > r_value_first**2 and r_value_zeroth**2 > r_value_second**2:\n",
    "        order = \"Zeroth\"\n",
    "        plt.plot(time, zero_order, label=\"Zeroth Order\")\n",
    "        print(f\"Fitted Zeroth Order Equation: [A] = {slope_zeroth:.4f} * t + {intercept_zeroth:.4f}\")\n",
    "\n",
    "    elif r_value_first**2 > r_value_zeroth**2 and r_value_first**2 > r_value_second**2:\n",
    "        order = \"First\"\n",
    "        plt.plot(time, first_order, label=\"First Order\")\n",
    "        print(f\"Fitted First Order Equation: ln([A]) = {slope_first:.4f} * t + {intercept_first:.4f}\")\n",
    "\n",
    "    else:\n",
    "        order = \"Second\"\n",
    "        plt.scatter(time, second_order, label=\"Second Order\")\n",
    "        print(f\"Fitted Second Order Equation: 1/[A] = {slope_second:.4f} * t + {intercept_second:.4f}\")\n",
    "\n",
    "    # Plotting the data\n",
    "    plt.xlabel(\"Time (s)\", fontsize=12)\n",
    "    plt.ylabel(\"Transformed Concentration\", fontsize=12)\n",
    "    plt.title(f\"Transformation for {order} Order Reaction\", fontweight=\"bold\", fontsize=14)\n",
    "    plt.legend()\n",
    "    plt.grid(True)\n",
    "    plt.show()\n",
    "\n",
    "# Check order of reaction\n",
    "time = [0.0, 52.63157895, 105.26315789, 157.89473684, 210.52631579, 263.15789474, 315.78947368, 368.42105263, 421.05263158, 473.68421053, 526.31578947, 578.94736842, 631.57894737, 684.21052632, 736.84210526, 789.47368421, 842.10526316, 894.73684211, 947.36842105, 1000.0]\n",
    "\n",
    "concentration = [1.00000000e+00, 5.17892437e-03, 2.68212576e-05, 1.38905265e-07, 7.19379861e-10, 3.72561389e-12, 1.92946726e-14, 9.99256501e-17, 5.17507385e-19, 2.68013161e-21, 1.38801989e-23, 7.18845003e-26, 3.72284391e-28, 1.92803270e-30, 9.98513555e-33, 5.17122619e-35, 2.67813893e-37, 1.38698790e-39, 7.18310543e-42, 3.72007598e-44\n",
    "]\n",
    "\n",
    "# Call the function to analyze the reaction and plot the results\n",
    "analyze_reaction(time, concentration)\n"
   ]
  },
  {
   "cell_type": "markdown",
   "metadata": {
    "id": "IvvFMXMswkfg"
   },
   "source": [
    "***"
   ]
  }
 ],
 "metadata": {
  "colab": {
   "provenance": []
  },
  "kernelspec": {
   "display_name": "molssi_1_py3_12",
   "language": "python",
   "name": "molssi_1_py3_12"
  },
  "language_info": {
   "codemirror_mode": {
    "name": "ipython",
    "version": 3
   },
   "file_extension": ".py",
   "mimetype": "text/x-python",
   "name": "python",
   "nbconvert_exporter": "python",
   "pygments_lexer": "ipython3",
   "version": "3.12.4"
  }
 },
 "nbformat": 4,
 "nbformat_minor": 0
}

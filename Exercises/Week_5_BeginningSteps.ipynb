{
 "cells": [
  {
   "cell_type": "markdown",
   "id": "190e3352-41a7-47dc-b57b-662d43a9aad5",
   "metadata": {
    "jupyter": {
     "source_hidden": true
    }
   },
   "source": [
    "# Week 5 First Steps"
   ]
  },
  {
   "cell_type": "markdown",
   "id": "1931cbb5-ee60-4ae5-85ee-d10908702a70",
   "metadata": {},
   "source": [
    "1. The molar of mass of water 18.02 g/mol. Calculate the number of moles in 15 g of water."
   ]
  },
  {
   "cell_type": "code",
   "execution_count": 18,
   "id": "b3630ed1-72d8-4046-9fb6-b6e58b9adc35",
   "metadata": {},
   "outputs": [
    {
     "name": "stdout",
     "output_type": "stream",
     "text": [
      "The number of moles of water in 15 g of water is: 0.8 g/mol\n"
     ]
    }
   ],
   "source": [
    "mol = round(15/18.02, 1)\n",
    "print(\"The number of moles of water in 15 g of water is: %s g/mol\" %mol)"
   ]
  },
  {
   "cell_type": "markdown",
   "id": "2bdfe9b4-c2cc-454a-aca9-8a20e954fc58",
   "metadata": {},
   "source": [
    "2. A sample of carbon has a half of 30 years. 12% of it has converted, how long did that take?"
   ]
  },
  {
   "cell_type": "code",
   "execution_count": 138,
   "id": "26530e72-9133-4fa9-b579-16bb529dfa40",
   "metadata": {},
   "outputs": [
    {
     "name": "stdout",
     "output_type": "stream",
     "text": [
      "Enter side A: 3\n",
      "Enter Side B: 4\n"
     ]
    }
   ],
   "source": [
    "import math\n",
    "\n",
    "a=float (input(\"Enter side A:\"))\n",
    "b=float (input(\"Enter Side B:\"))\n",
    "\n",
    "c= math.sqrt(pow(a,2) + pow (b,2))\n",
    "\n",
    "print= (f\"Side C = {c}\")"
   ]
  }
 ],
 "metadata": {
  "kernelspec": {
   "display_name": "molssi_1_py3_12",
   "language": "python",
   "name": "molssi_1_py3_12"
  },
  "language_info": {
   "codemirror_mode": {
    "name": "ipython",
    "version": 3
   },
   "file_extension": ".py",
   "mimetype": "text/x-python",
   "name": "python",
   "nbconvert_exporter": "python",
   "pygments_lexer": "ipython3",
   "version": "3.12.4"
  }
 },
 "nbformat": 4,
 "nbformat_minor": 5
}
